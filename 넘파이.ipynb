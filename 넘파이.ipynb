{
  "nbformat": 4,
  "nbformat_minor": 0,
  "metadata": {
    "colab": {
      "provenance": [],
      "authorship_tag": "ABX9TyMmT4en8Wb3dJmFsPa1HMqJ",
      "include_colab_link": true
    },
    "kernelspec": {
      "name": "python3",
      "display_name": "Python 3"
    },
    "language_info": {
      "name": "python"
    }
  },
  "cells": [
    {
      "cell_type": "markdown",
      "metadata": {
        "id": "view-in-github",
        "colab_type": "text"
      },
      "source": [
        "<a href=\"https://colab.research.google.com/github/Kimsumin1234/pandas/blob/main/%EB%84%98%ED%8C%8C%EC%9D%B4.ipynb\" target=\"_parent\"><img src=\"https://colab.research.google.com/assets/colab-badge.svg\" alt=\"Open In Colab\"/></a>"
      ]
    },
    {
      "cell_type": "markdown",
      "source": [
        "### 넘파이\n",
        "- 과학 계산 및 수학 계산 라이브러리\n",
        "- 이미지와 컴퓨터 그래픽을 빠르게 처리\n",
        "- 반복문을 작성하지 않고 전체 데이터 배열을 빠르게 계산할 수 있는 수학 함수 제공\n",
        "\n",
        "> 넘파이 배열:\n",
        "- 벡터(1차원)와 매트릭스(2차원)를 배열이라고 한다\n",
        "- 머신러닝에서 사용하는 주요 데이터 구조이다"
      ],
      "metadata": {
        "id": "YKf3S0fcgwTZ"
      }
    },
    {
      "cell_type": "code",
      "execution_count": 3,
      "metadata": {
        "id": "4CWK2zUpjFOC"
      },
      "outputs": [],
      "source": [
        "import numpy as np"
      ]
    },
    {
      "cell_type": "markdown",
      "source": [
        "### 1. 1차원 배열(벡터)"
      ],
      "metadata": {
        "id": "jinENqsLiJc4"
      }
    },
    {
      "cell_type": "code",
      "source": [
        "# 벡터 생성\n",
        "\n",
        "array1 = np.array([1,2,3,4])\n",
        "array1"
      ],
      "metadata": {
        "colab": {
          "base_uri": "https://localhost:8080/"
        },
        "id": "sAucoxz1hTOA",
        "outputId": "9677e0bd-b847-4ec1-c920-2786f0390b44"
      },
      "execution_count": 4,
      "outputs": [
        {
          "output_type": "execute_result",
          "data": {
            "text/plain": [
              "array([1, 2, 3, 4])"
            ]
          },
          "metadata": {},
          "execution_count": 4
        }
      ]
    },
    {
      "cell_type": "code",
      "source": [
        "# 4행\n",
        "array1.shape"
      ],
      "metadata": {
        "colab": {
          "base_uri": "https://localhost:8080/"
        },
        "id": "qgxA_kPIiU0E",
        "outputId": "e42a4cb4-7a5c-45f0-f3ce-01a14d6318e4"
      },
      "execution_count": 5,
      "outputs": [
        {
          "output_type": "execute_result",
          "data": {
            "text/plain": [
              "(4,)"
            ]
          },
          "metadata": {},
          "execution_count": 5
        }
      ]
    },
    {
      "cell_type": "markdown",
      "source": [
        "### 2. 2차원 배열(매트릭스)"
      ],
      "metadata": {
        "id": "tDMOthvKilLn"
      }
    },
    {
      "cell_type": "code",
      "source": [
        "# 매트릭스 생성\n",
        "\n",
        "data1 = [\n",
        "    [1,2,3],\n",
        "    [4,5,6]\n",
        "]\n",
        "\n",
        "array2 = np.array(data1)\n",
        "array2"
      ],
      "metadata": {
        "colab": {
          "base_uri": "https://localhost:8080/"
        },
        "id": "3NztCW9Piftz",
        "outputId": "edcbff27-21de-4764-c6ef-b397c2bc67fd"
      },
      "execution_count": 6,
      "outputs": [
        {
          "output_type": "execute_result",
          "data": {
            "text/plain": [
              "array([[1, 2, 3],\n",
              "       [4, 5, 6]])"
            ]
          },
          "metadata": {},
          "execution_count": 6
        }
      ]
    },
    {
      "cell_type": "code",
      "source": [
        "# 2행 3열\n",
        "array2.shape"
      ],
      "metadata": {
        "colab": {
          "base_uri": "https://localhost:8080/"
        },
        "id": "gV6gg9Qqi0Tz",
        "outputId": "806b93ad-60fb-4906-e13c-76012365984e"
      },
      "execution_count": 7,
      "outputs": [
        {
          "output_type": "execute_result",
          "data": {
            "text/plain": [
              "(2, 3)"
            ]
          },
          "metadata": {},
          "execution_count": 7
        }
      ]
    },
    {
      "cell_type": "code",
      "source": [
        "# 1행 4열\n",
        "# [[[]]] : 3차원\n",
        "array3 = np.array([[1,2,3,4]])\n",
        "array3.shape"
      ],
      "metadata": {
        "colab": {
          "base_uri": "https://localhost:8080/"
        },
        "id": "HUwyDBc-i3NG",
        "outputId": "0186a00f-22c7-4a96-fae3-fac3171f9524"
      },
      "execution_count": 8,
      "outputs": [
        {
          "output_type": "execute_result",
          "data": {
            "text/plain": [
              "(1, 4)"
            ]
          },
          "metadata": {},
          "execution_count": 8
        }
      ]
    },
    {
      "cell_type": "code",
      "source": [
        "# ndim : 차원 수 알아보기\n",
        "\n",
        "print(array1.ndim)\n",
        "print(array2.ndim)\n",
        "print(array3.ndim)"
      ],
      "metadata": {
        "colab": {
          "base_uri": "https://localhost:8080/"
        },
        "id": "Nby1Iazui9Wv",
        "outputId": "e8ed374c-128d-473f-ccc9-26df4c6b6f7b"
      },
      "execution_count": 9,
      "outputs": [
        {
          "output_type": "stream",
          "name": "stdout",
          "text": [
            "1\n",
            "2\n",
            "2\n"
          ]
        }
      ]
    },
    {
      "cell_type": "code",
      "source": [
        "# 파이썬 에서는 리스트는 서로 다른 타입 가지기 가능\n",
        "\n",
        "list1 = [1,2,'a',3.5]\n",
        "list1"
      ],
      "metadata": {
        "colab": {
          "base_uri": "https://localhost:8080/"
        },
        "id": "PzYsQrKZjYG6",
        "outputId": "3b0aac22-f97b-457a-ac4f-b1304f4278d5"
      },
      "execution_count": 10,
      "outputs": [
        {
          "output_type": "execute_result",
          "data": {
            "text/plain": [
              "[1, 2, 'a', 3.5]"
            ]
          },
          "metadata": {},
          "execution_count": 10
        }
      ]
    },
    {
      "cell_type": "code",
      "source": [
        "# 넘파이는 서로다른 타입이 들어오면 하나의 타입으로 변경후 array 생성\n",
        "\n",
        "np.array(list1)"
      ],
      "metadata": {
        "colab": {
          "base_uri": "https://localhost:8080/"
        },
        "id": "BnAOqzbNjgd-",
        "outputId": "4cdf61d1-8265-45a3-91a1-9820a921fa18"
      },
      "execution_count": 11,
      "outputs": [
        {
          "output_type": "execute_result",
          "data": {
            "text/plain": [
              "array(['1', '2', 'a', '3.5'], dtype='<U32')"
            ]
          },
          "metadata": {},
          "execution_count": 11
        }
      ]
    },
    {
      "cell_type": "code",
      "source": [
        "# array1.dtype\n",
        "# 자바 : float(4byte), double(8byte)\n",
        "\n",
        "# 타입변환\n",
        "# float64 : float 를 64비트(=8byte)로 표현\n",
        "array_f1 = array1.astype('float64')\n",
        "array_f1.dtype"
      ],
      "metadata": {
        "colab": {
          "base_uri": "https://localhost:8080/"
        },
        "id": "tfxEi7VAjrSG",
        "outputId": "cd6cbdbd-6b1d-4016-8907-ff390ae9756c"
      },
      "execution_count": 12,
      "outputs": [
        {
          "output_type": "execute_result",
          "data": {
            "text/plain": [
              "dtype('float64')"
            ]
          },
          "metadata": {},
          "execution_count": 12
        }
      ]
    },
    {
      "cell_type": "markdown",
      "source": [
        "### 3. 넘파이 함수"
      ],
      "metadata": {
        "id": "nRToKGq-lE8-"
      }
    },
    {
      "cell_type": "code",
      "source": [
        "# arange(n) : 0 ~ n-1 에 해당하는 넘파이 배열을 생성\n",
        "\n",
        "np.arange(10)\n",
        "\n",
        "np.arange(5, 10) # 5:시작값 부여가능\n",
        "\n",
        "np.arange(1, 10, 2) # 2:증가값 부여가능"
      ],
      "metadata": {
        "colab": {
          "base_uri": "https://localhost:8080/"
        },
        "id": "SQraH_c8kNvm",
        "outputId": "4bd8aa36-1482-45d5-db2c-0eda3912c031"
      },
      "execution_count": 13,
      "outputs": [
        {
          "output_type": "execute_result",
          "data": {
            "text/plain": [
              "array([1, 3, 5, 7, 9])"
            ]
          },
          "metadata": {},
          "execution_count": 13
        }
      ]
    },
    {
      "cell_type": "code",
      "source": [
        "# 5의 배수 넘파이 배열 생성\n",
        "\n",
        "np.arange(5,101,5)"
      ],
      "metadata": {
        "colab": {
          "base_uri": "https://localhost:8080/"
        },
        "id": "aTWO4KINlL87",
        "outputId": "5857b7a7-f41c-4802-df28-35d115fae3d8"
      },
      "execution_count": 14,
      "outputs": [
        {
          "output_type": "execute_result",
          "data": {
            "text/plain": [
              "array([  5,  10,  15,  20,  25,  30,  35,  40,  45,  50,  55,  60,  65,\n",
              "        70,  75,  80,  85,  90,  95, 100])"
            ]
          },
          "metadata": {},
          "execution_count": 14
        }
      ]
    },
    {
      "cell_type": "code",
      "source": [
        "# zeros(n) : n 개 만큼 0 을 채워서 넘파이 배열 생성\n",
        "\n",
        "np.zeros(4)\n",
        "\n",
        "np.zeros((3,4)) # (3,4):3행4열 로 0을 채워서 넘파이 배열 생성\n",
        "\n",
        "np.zeros((3,4,2)) # 3차원"
      ],
      "metadata": {
        "colab": {
          "base_uri": "https://localhost:8080/"
        },
        "id": "Q-nzJ8a2lrM3",
        "outputId": "04af632e-c9f2-44c2-d7f5-2af0e9d51221"
      },
      "execution_count": 15,
      "outputs": [
        {
          "output_type": "execute_result",
          "data": {
            "text/plain": [
              "array([[[0., 0.],\n",
              "        [0., 0.],\n",
              "        [0., 0.],\n",
              "        [0., 0.]],\n",
              "\n",
              "       [[0., 0.],\n",
              "        [0., 0.],\n",
              "        [0., 0.],\n",
              "        [0., 0.]],\n",
              "\n",
              "       [[0., 0.],\n",
              "        [0., 0.],\n",
              "        [0., 0.],\n",
              "        [0., 0.]]])"
            ]
          },
          "metadata": {},
          "execution_count": 15
        }
      ]
    },
    {
      "cell_type": "code",
      "source": [
        "# ones(n) : n 개 만큼 1 을 채워서 넘파이 1차원 배열 생성\n",
        "\n",
        "np.ones(4)\n",
        "\n",
        "np.ones((2,3))\n",
        "\n",
        "np.ones((2,3,3))"
      ],
      "metadata": {
        "colab": {
          "base_uri": "https://localhost:8080/"
        },
        "id": "hE5Nxpt9mEav",
        "outputId": "b7809171-6cb0-4498-c566-6dd6be54a662"
      },
      "execution_count": 16,
      "outputs": [
        {
          "output_type": "execute_result",
          "data": {
            "text/plain": [
              "array([[[1., 1., 1.],\n",
              "        [1., 1., 1.],\n",
              "        [1., 1., 1.]],\n",
              "\n",
              "       [[1., 1., 1.],\n",
              "        [1., 1., 1.],\n",
              "        [1., 1., 1.]]])"
            ]
          },
          "metadata": {},
          "execution_count": 16
        }
      ]
    },
    {
      "cell_type": "code",
      "source": [
        "# np.empty(n) : 임의의 값을 넣어서 넘파이 배열 생성\n",
        "\n",
        "np.empty(4)\n",
        "\n",
        "np.empty((3,4), dtype=int)"
      ],
      "metadata": {
        "colab": {
          "base_uri": "https://localhost:8080/"
        },
        "id": "kOmFcC5MnBUv",
        "outputId": "ba5a11c1-81a7-40f2-9394-fce7f38c27fd"
      },
      "execution_count": 17,
      "outputs": [
        {
          "output_type": "execute_result",
          "data": {
            "text/plain": [
              "array([[0, 0, 0, 0],\n",
              "       [0, 0, 0, 0],\n",
              "       [0, 0, 0, 0]])"
            ]
          },
          "metadata": {},
          "execution_count": 17
        }
      ]
    },
    {
      "cell_type": "code",
      "source": [
        "# np.full() : 특정값 으로 채우기\n",
        "\n",
        "# TypeError: full() missing 1 required positional argument: 'fill_value'\n",
        "#            => fill_value 값 1개 가 필요하다\n",
        "# np.full(4)\n",
        "\n",
        "# fill_value : 특정값 으로 채우기\n",
        "np.full(4,fill_value=7)\n",
        "\n",
        "np.full((2,4),fill_value=7)"
      ],
      "metadata": {
        "colab": {
          "base_uri": "https://localhost:8080/"
        },
        "id": "14HJxLtZndt3",
        "outputId": "378bb172-70aa-4158-ca66-33edde608a72"
      },
      "execution_count": 18,
      "outputs": [
        {
          "output_type": "execute_result",
          "data": {
            "text/plain": [
              "array([[7, 7, 7, 7],\n",
              "       [7, 7, 7, 7]])"
            ]
          },
          "metadata": {},
          "execution_count": 18
        }
      ]
    },
    {
      "cell_type": "code",
      "source": [
        "# np.eye(n) : 단위행렬\n",
        "\n",
        "np.eye(3)"
      ],
      "metadata": {
        "colab": {
          "base_uri": "https://localhost:8080/"
        },
        "id": "XSMNbB-moRlZ",
        "outputId": "ca2ff843-3c93-44da-c72c-7c266bdb9a10"
      },
      "execution_count": 19,
      "outputs": [
        {
          "output_type": "execute_result",
          "data": {
            "text/plain": [
              "array([[1., 0., 0.],\n",
              "       [0., 1., 0.],\n",
              "       [0., 0., 1.]])"
            ]
          },
          "metadata": {},
          "execution_count": 19
        }
      ]
    },
    {
      "cell_type": "code",
      "source": [
        "# np.linspace(시작,끝,전체개수) : 시작~끝 범위안에서 균등하게 분할된 값으로 반환\n",
        "\n",
        "np.linspace(1,10,5) # 1 ~ 10 사이 숫자범위 에서 5개 숫자 만들기\n",
        "\n",
        "np.linspace(1,10,4) # 1 ~ 10 사이 숫자범위 에서 4개 숫자 만들기"
      ],
      "metadata": {
        "colab": {
          "base_uri": "https://localhost:8080/"
        },
        "id": "6Q_OOx1qoXVh",
        "outputId": "c4ee9a85-5048-463b-fc7c-2984d30644f3"
      },
      "execution_count": 20,
      "outputs": [
        {
          "output_type": "execute_result",
          "data": {
            "text/plain": [
              "array([ 1.,  4.,  7., 10.])"
            ]
          },
          "metadata": {},
          "execution_count": 20
        }
      ]
    },
    {
      "cell_type": "code",
      "source": [
        "# np.random.rand(n) : 0 ~ 1 사이\n",
        "\n",
        "np.random.rand(7)\n",
        "\n",
        "np.random.rand(2,3) # 2행3열 로 0~1 사이 숫자를 채워서 만들기"
      ],
      "metadata": {
        "colab": {
          "base_uri": "https://localhost:8080/"
        },
        "id": "hJannjm9owyH",
        "outputId": "7dd8e7fc-32ea-4fbc-cac4-dae2d2e97094"
      },
      "execution_count": 21,
      "outputs": [
        {
          "output_type": "execute_result",
          "data": {
            "text/plain": [
              "array([[0.06140393, 0.21852405, 0.02470915],\n",
              "       [0.95701645, 0.09059539, 0.69933228]])"
            ]
          },
          "metadata": {},
          "execution_count": 21
        }
      ]
    },
    {
      "cell_type": "code",
      "source": [
        "# np.random.randn() : 정규분포로 샘플링 된 배열 생성\n",
        "\n",
        "np.random.randn(2,3)"
      ],
      "metadata": {
        "colab": {
          "base_uri": "https://localhost:8080/"
        },
        "id": "3t0AA7JapkLY",
        "outputId": "d456895e-eb22-4701-c056-63c71cc75241"
      },
      "execution_count": 22,
      "outputs": [
        {
          "output_type": "execute_result",
          "data": {
            "text/plain": [
              "array([[-0.53970774,  0.54250347, -0.2053964 ],\n",
              "       [-1.47981124, -2.20735264,  1.19309953]])"
            ]
          },
          "metadata": {},
          "execution_count": 22
        }
      ]
    },
    {
      "cell_type": "code",
      "source": [
        "# np.random.randint(시작,마지막,개수) : 시작~마지막 범위안에 숫자 추출\n",
        "\n",
        "np.random.randint(1,10,5) # 1 ~ 10 사이 숫자중에서 5개 채우기"
      ],
      "metadata": {
        "colab": {
          "base_uri": "https://localhost:8080/"
        },
        "id": "Be1qAGlLpmnH",
        "outputId": "3ed90cf1-628d-4e12-9575-4d1126c10e1c"
      },
      "execution_count": 23,
      "outputs": [
        {
          "output_type": "execute_result",
          "data": {
            "text/plain": [
              "array([5, 6, 4, 2, 4])"
            ]
          },
          "metadata": {},
          "execution_count": 23
        }
      ]
    },
    {
      "cell_type": "code",
      "source": [
        "# np.random.seed(임의의숫자) : random 사용시 실행할 때마다 결과가 다르게 나오는 것을 방지\n",
        "\n",
        "np.random.seed(140)\n",
        "np.random.randn(2,3)"
      ],
      "metadata": {
        "colab": {
          "base_uri": "https://localhost:8080/"
        },
        "id": "e85CE_e0qbsy",
        "outputId": "75352925-02a2-4aa4-dc00-a3351c984185"
      },
      "execution_count": 24,
      "outputs": [
        {
          "output_type": "execute_result",
          "data": {
            "text/plain": [
              "array([[-0.46716782,  0.29599552,  0.18548011],\n",
              "       [-0.82809842, -0.03192753,  1.00155352]])"
            ]
          },
          "metadata": {},
          "execution_count": 24
        }
      ]
    },
    {
      "cell_type": "code",
      "source": [
        "# np.random.choice() : 0 ~ n-1 까지 임의의 수 추출\n",
        "\n",
        "np.random.choice(100)\n",
        "\n",
        "np.random.choice(100,size=(3,4))"
      ],
      "metadata": {
        "colab": {
          "base_uri": "https://localhost:8080/"
        },
        "id": "sGCwpFlIqkH_",
        "outputId": "10e76dd8-556b-4219-d55b-3f1a06d2169d"
      },
      "execution_count": 25,
      "outputs": [
        {
          "output_type": "execute_result",
          "data": {
            "text/plain": [
              "array([[44, 47, 66, 75],\n",
              "       [ 5, 36, 36, 40],\n",
              "       [13, 84, 33, 67]])"
            ]
          },
          "metadata": {},
          "execution_count": 25
        }
      ]
    },
    {
      "cell_type": "markdown",
      "source": [
        "### 4. 인덱싱과 슬라이싱"
      ],
      "metadata": {
        "id": "rr3_nftx7vln"
      }
    },
    {
      "cell_type": "code",
      "source": [
        "arr1 = np.arange(1,10)\n",
        "arr1\n",
        "\n",
        "# 인덱싱\n",
        "print(arr1[2])\n",
        "print(arr1[-2])\n",
        "\n",
        "arr1[3] = 18\n",
        "arr1"
      ],
      "metadata": {
        "colab": {
          "base_uri": "https://localhost:8080/"
        },
        "id": "vEaw5w4f7uA_",
        "outputId": "3ed624d7-6a1f-418e-817c-3b37dafc17d9"
      },
      "execution_count": 29,
      "outputs": [
        {
          "output_type": "stream",
          "name": "stdout",
          "text": [
            "3\n",
            "8\n"
          ]
        },
        {
          "output_type": "execute_result",
          "data": {
            "text/plain": [
              "array([ 1,  2,  3, 18,  5,  6,  7,  8,  9])"
            ]
          },
          "metadata": {},
          "execution_count": 29
        }
      ]
    },
    {
      "cell_type": "code",
      "source": [
        "# reshape() : 구조가 만들어지는 행,열 개수를 알맞게 맞춰야한다\n",
        "\n",
        "# 1차원 -> 2차원 으로 변환\n",
        "arr1 = np.arange(1,10).reshape(3,3)\n",
        "arr1"
      ],
      "metadata": {
        "colab": {
          "base_uri": "https://localhost:8080/"
        },
        "id": "UFyWQksT78SX",
        "outputId": "b1e31236-2dd1-44d9-857b-3bccf6670aa9"
      },
      "execution_count": 34,
      "outputs": [
        {
          "output_type": "execute_result",
          "data": {
            "text/plain": [
              "array([[1, 2, 3],\n",
              "       [4, 5, 6],\n",
              "       [7, 8, 9]])"
            ]
          },
          "metadata": {},
          "execution_count": 34
        }
      ]
    },
    {
      "cell_type": "code",
      "source": [
        "print(arr1[0,0]) # 파이썬 에서는 arr1[0][0]\n",
        "print(arr1[1,1])"
      ],
      "metadata": {
        "colab": {
          "base_uri": "https://localhost:8080/"
        },
        "id": "CZI_RWI68XT2",
        "outputId": "0d9bf6b5-f6ec-4c82-d982-f805b47eb28f"
      },
      "execution_count": 35,
      "outputs": [
        {
          "output_type": "stream",
          "name": "stdout",
          "text": [
            "1\n",
            "5\n"
          ]
        }
      ]
    },
    {
      "cell_type": "code",
      "source": [],
      "metadata": {
        "id": "ntua-IwW95xX"
      },
      "execution_count": null,
      "outputs": []
    },
    {
      "cell_type": "code",
      "source": [
        "# 3차원 : 텐서\n",
        "\n",
        "arr1 = np.arange(36).reshape(3,4,3)\n",
        "arr1"
      ],
      "metadata": {
        "colab": {
          "base_uri": "https://localhost:8080/"
        },
        "id": "KnelNGfN8xlr",
        "outputId": "fe19a120-491e-4d0e-e1d6-e4586dbe20f8"
      },
      "execution_count": 36,
      "outputs": [
        {
          "output_type": "execute_result",
          "data": {
            "text/plain": [
              "array([[[ 0,  1,  2],\n",
              "        [ 3,  4,  5],\n",
              "        [ 6,  7,  8],\n",
              "        [ 9, 10, 11]],\n",
              "\n",
              "       [[12, 13, 14],\n",
              "        [15, 16, 17],\n",
              "        [18, 19, 20],\n",
              "        [21, 22, 23]],\n",
              "\n",
              "       [[24, 25, 26],\n",
              "        [27, 28, 29],\n",
              "        [30, 31, 32],\n",
              "        [33, 34, 35]]])"
            ]
          },
          "metadata": {},
          "execution_count": 36
        }
      ]
    },
    {
      "cell_type": "code",
      "source": [
        "arr1[0]"
      ],
      "metadata": {
        "colab": {
          "base_uri": "https://localhost:8080/"
        },
        "id": "RZ9YnE9Q82zV",
        "outputId": "2d3c48ce-9f99-4514-a86f-66752802b317"
      },
      "execution_count": 37,
      "outputs": [
        {
          "output_type": "execute_result",
          "data": {
            "text/plain": [
              "array([[ 0,  1,  2],\n",
              "       [ 3,  4,  5],\n",
              "       [ 6,  7,  8],\n",
              "       [ 9, 10, 11]])"
            ]
          },
          "metadata": {},
          "execution_count": 37
        }
      ]
    },
    {
      "cell_type": "code",
      "source": [
        "arr1[0,1]"
      ],
      "metadata": {
        "colab": {
          "base_uri": "https://localhost:8080/"
        },
        "id": "MqUD4ZAj9AY1",
        "outputId": "be0360f0-0412-4d4f-968e-3753d262bdba"
      },
      "execution_count": 38,
      "outputs": [
        {
          "output_type": "execute_result",
          "data": {
            "text/plain": [
              "array([3, 4, 5])"
            ]
          },
          "metadata": {},
          "execution_count": 38
        }
      ]
    },
    {
      "cell_type": "code",
      "source": [
        "arr1[0,1,-1]"
      ],
      "metadata": {
        "colab": {
          "base_uri": "https://localhost:8080/"
        },
        "id": "FD3j3XAV9Cee",
        "outputId": "ec1cf23a-5222-465b-d979-1b0fc77f1454"
      },
      "execution_count": 39,
      "outputs": [
        {
          "output_type": "execute_result",
          "data": {
            "text/plain": [
              "5"
            ]
          },
          "metadata": {},
          "execution_count": 39
        }
      ]
    },
    {
      "cell_type": "code",
      "source": [
        "# 16 출력\n",
        "\n",
        "arr1[1,1,1]"
      ],
      "metadata": {
        "colab": {
          "base_uri": "https://localhost:8080/"
        },
        "id": "gyBfhiwA9HuW",
        "outputId": "5782f573-26ca-456c-bebd-82cd54f4ce59"
      },
      "execution_count": 42,
      "outputs": [
        {
          "output_type": "execute_result",
          "data": {
            "text/plain": [
              "16"
            ]
          },
          "metadata": {},
          "execution_count": 42
        }
      ]
    },
    {
      "cell_type": "code",
      "source": [
        "arr2 = np.arange(1,10)\n",
        "arr2"
      ],
      "metadata": {
        "colab": {
          "base_uri": "https://localhost:8080/"
        },
        "id": "-y3vKMZ59NJN",
        "outputId": "83887259-baf5-446c-ca22-641d9d04b90b"
      },
      "execution_count": 44,
      "outputs": [
        {
          "output_type": "execute_result",
          "data": {
            "text/plain": [
              "array([1, 2, 3, 4, 5, 6, 7, 8, 9])"
            ]
          },
          "metadata": {},
          "execution_count": 44
        }
      ]
    },
    {
      "cell_type": "code",
      "source": [
        "# 슬라이싱\n",
        "\n",
        "arr2[0:3]\n",
        "arr2[:3]\n",
        "arr2[3:]"
      ],
      "metadata": {
        "colab": {
          "base_uri": "https://localhost:8080/"
        },
        "id": "UPhv5VPh9ekQ",
        "outputId": "0f9d8282-b05b-4b34-cbfa-6f886f4ae42c"
      },
      "execution_count": 47,
      "outputs": [
        {
          "output_type": "execute_result",
          "data": {
            "text/plain": [
              "array([4, 5, 6, 7, 8, 9])"
            ]
          },
          "metadata": {},
          "execution_count": 47
        }
      ]
    },
    {
      "cell_type": "code",
      "source": [
        "arr2 = np.arange(1,10).reshape(3,3)\n",
        "arr2"
      ],
      "metadata": {
        "colab": {
          "base_uri": "https://localhost:8080/"
        },
        "id": "PnpKHJp49i-o",
        "outputId": "396b4b6a-f751-4043-8acf-42b1aec9ea70"
      },
      "execution_count": 48,
      "outputs": [
        {
          "output_type": "execute_result",
          "data": {
            "text/plain": [
              "array([[1, 2, 3],\n",
              "       [4, 5, 6],\n",
              "       [7, 8, 9]])"
            ]
          },
          "metadata": {},
          "execution_count": 48
        }
      ]
    },
    {
      "cell_type": "code",
      "source": [
        "arr2[:2,:1]"
      ],
      "metadata": {
        "colab": {
          "base_uri": "https://localhost:8080/"
        },
        "id": "IvGirzY09tg-",
        "outputId": "8e76da28-a6e4-4b46-ee2d-01079f27ff48"
      },
      "execution_count": 49,
      "outputs": [
        {
          "output_type": "execute_result",
          "data": {
            "text/plain": [
              "array([[1],\n",
              "       [4]])"
            ]
          },
          "metadata": {},
          "execution_count": 49
        }
      ]
    },
    {
      "cell_type": "code",
      "source": [
        "arr2[1:3,:]"
      ],
      "metadata": {
        "colab": {
          "base_uri": "https://localhost:8080/"
        },
        "id": "Q7-AA9HZ99L_",
        "outputId": "49095953-33e9-47f4-852c-3e850f77cc2b"
      },
      "execution_count": 50,
      "outputs": [
        {
          "output_type": "execute_result",
          "data": {
            "text/plain": [
              "array([[4, 5, 6],\n",
              "       [7, 8, 9]])"
            ]
          },
          "metadata": {},
          "execution_count": 50
        }
      ]
    },
    {
      "cell_type": "code",
      "source": [
        "arr3 = np.arange(1,10)\n",
        "arr3"
      ],
      "metadata": {
        "colab": {
          "base_uri": "https://localhost:8080/"
        },
        "id": "elx6EgUH-Ftv",
        "outputId": "464f2466-2ba2-4f83-9f24-aee521604c03"
      },
      "execution_count": 51,
      "outputs": [
        {
          "output_type": "execute_result",
          "data": {
            "text/plain": [
              "array([1, 2, 3, 4, 5, 6, 7, 8, 9])"
            ]
          },
          "metadata": {},
          "execution_count": 51
        }
      ]
    },
    {
      "cell_type": "code",
      "source": [
        "# boolean 인덱싱\n",
        "\n",
        "arr3[arr3 > 5]"
      ],
      "metadata": {
        "colab": {
          "base_uri": "https://localhost:8080/"
        },
        "id": "D3XxGxRS-Uyq",
        "outputId": "3dfc0927-23e6-4dfa-d311-06890d2dddc6"
      },
      "execution_count": 52,
      "outputs": [
        {
          "output_type": "execute_result",
          "data": {
            "text/plain": [
              "array([6, 7, 8, 9])"
            ]
          },
          "metadata": {},
          "execution_count": 52
        }
      ]
    },
    {
      "cell_type": "markdown",
      "source": [
        "### 데이터 형태 변경"
      ],
      "metadata": {
        "id": "IIE9p-FJ-qeF"
      }
    },
    {
      "cell_type": "code",
      "source": [
        "y = np.arange(15)\n",
        "y"
      ],
      "metadata": {
        "colab": {
          "base_uri": "https://localhost:8080/"
        },
        "id": "rStue8XG-Y06",
        "outputId": "16808fbc-96f3-4c8b-ba5c-65749db248c9"
      },
      "execution_count": 53,
      "outputs": [
        {
          "output_type": "execute_result",
          "data": {
            "text/plain": [
              "array([ 0,  1,  2,  3,  4,  5,  6,  7,  8,  9, 10, 11, 12, 13, 14])"
            ]
          },
          "metadata": {},
          "execution_count": 53
        }
      ]
    },
    {
      "cell_type": "code",
      "source": [
        "# 1차원 -> 2차원\n",
        "\n",
        "y = np.arange(15).reshape(3,5)\n",
        "y"
      ],
      "metadata": {
        "colab": {
          "base_uri": "https://localhost:8080/"
        },
        "id": "AWf2hibh-wYd",
        "outputId": "726be408-0f7c-497b-c10d-c94b22f94d9d"
      },
      "execution_count": 54,
      "outputs": [
        {
          "output_type": "execute_result",
          "data": {
            "text/plain": [
              "array([[ 0,  1,  2,  3,  4],\n",
              "       [ 5,  6,  7,  8,  9],\n",
              "       [10, 11, 12, 13, 14]])"
            ]
          },
          "metadata": {},
          "execution_count": 54
        }
      ]
    },
    {
      "cell_type": "code",
      "source": [
        "# 2차원 -> 1차원\n",
        "\n",
        "y.flatten()"
      ],
      "metadata": {
        "colab": {
          "base_uri": "https://localhost:8080/"
        },
        "id": "lXbfSruO-6u9",
        "outputId": "94201ad1-3132-40be-9630-a7ecaef792d8"
      },
      "execution_count": 55,
      "outputs": [
        {
          "output_type": "execute_result",
          "data": {
            "text/plain": [
              "array([ 0,  1,  2,  3,  4,  5,  6,  7,  8,  9, 10, 11, 12, 13, 14])"
            ]
          },
          "metadata": {},
          "execution_count": 55
        }
      ]
    },
    {
      "cell_type": "code",
      "source": [
        "# 2행3열 5개 (3차원)\n",
        "\n",
        "x = np.arange(30).reshape(2,3,5)\n",
        "x"
      ],
      "metadata": {
        "colab": {
          "base_uri": "https://localhost:8080/"
        },
        "id": "G4zjj_Mg_BC9",
        "outputId": "699e6fde-0058-4144-d71b-b0d3fb475bdc"
      },
      "execution_count": 57,
      "outputs": [
        {
          "output_type": "execute_result",
          "data": {
            "text/plain": [
              "array([[[ 0,  1,  2,  3,  4],\n",
              "        [ 5,  6,  7,  8,  9],\n",
              "        [10, 11, 12, 13, 14]],\n",
              "\n",
              "       [[15, 16, 17, 18, 19],\n",
              "        [20, 21, 22, 23, 24],\n",
              "        [25, 26, 27, 28, 29]]])"
            ]
          },
          "metadata": {},
          "execution_count": 57
        }
      ]
    },
    {
      "cell_type": "code",
      "source": [
        "# 3차원 -> 1차원\n",
        "\n",
        "x.flatten()"
      ],
      "metadata": {
        "colab": {
          "base_uri": "https://localhost:8080/"
        },
        "id": "y6vwjWlt_JBO",
        "outputId": "7f82d0c9-8c51-4b11-cec5-4a78e0c6c986"
      },
      "execution_count": 58,
      "outputs": [
        {
          "output_type": "execute_result",
          "data": {
            "text/plain": [
              "array([ 0,  1,  2,  3,  4,  5,  6,  7,  8,  9, 10, 11, 12, 13, 14, 15, 16,\n",
              "       17, 18, 19, 20, 21, 22, 23, 24, 25, 26, 27, 28, 29])"
            ]
          },
          "metadata": {},
          "execution_count": 58
        }
      ]
    },
    {
      "cell_type": "markdown",
      "source": [
        "### ndarray 기본 함수 (배열 사칙연산)\n",
        "- add(), subtract(), mutiply(), divide() 기본함수 제공"
      ],
      "metadata": {
        "id": "pl0iZpbX_nQo"
      }
    },
    {
      "cell_type": "code",
      "source": [
        "x = np.array([[4,4,4],[8,8,8]])\n",
        "y = np.array([[1,1,1],[2,2,2]])"
      ],
      "metadata": {
        "id": "IBPIhCXM_iC9"
      },
      "execution_count": 59,
      "outputs": []
    },
    {
      "cell_type": "code",
      "source": [
        "x + y"
      ],
      "metadata": {
        "colab": {
          "base_uri": "https://localhost:8080/"
        },
        "id": "hzRHOR1f__A7",
        "outputId": "33ac62b9-412f-4577-bdec-12adad67a117"
      },
      "execution_count": 60,
      "outputs": [
        {
          "output_type": "execute_result",
          "data": {
            "text/plain": [
              "array([[ 5,  5,  5],\n",
              "       [10, 10, 10]])"
            ]
          },
          "metadata": {},
          "execution_count": 60
        }
      ]
    },
    {
      "cell_type": "code",
      "source": [
        "x - y"
      ],
      "metadata": {
        "colab": {
          "base_uri": "https://localhost:8080/"
        },
        "id": "qSm53NrpAB6m",
        "outputId": "c7d41f83-4511-48ea-edff-63f2b463d330"
      },
      "execution_count": 61,
      "outputs": [
        {
          "output_type": "execute_result",
          "data": {
            "text/plain": [
              "array([[3, 3, 3],\n",
              "       [6, 6, 6]])"
            ]
          },
          "metadata": {},
          "execution_count": 61
        }
      ]
    },
    {
      "cell_type": "code",
      "source": [
        "x * y"
      ],
      "metadata": {
        "colab": {
          "base_uri": "https://localhost:8080/"
        },
        "id": "ton7C8C1ALZt",
        "outputId": "9410bc4a-2920-4708-ba37-8ae71ab9a28e"
      },
      "execution_count": 62,
      "outputs": [
        {
          "output_type": "execute_result",
          "data": {
            "text/plain": [
              "array([[ 4,  4,  4],\n",
              "       [16, 16, 16]])"
            ]
          },
          "metadata": {},
          "execution_count": 62
        }
      ]
    },
    {
      "cell_type": "code",
      "source": [
        "x / y"
      ],
      "metadata": {
        "colab": {
          "base_uri": "https://localhost:8080/"
        },
        "id": "e8Xar9UzAO4F",
        "outputId": "4cfba81e-7852-425f-904f-de1e4a979e63"
      },
      "execution_count": 63,
      "outputs": [
        {
          "output_type": "execute_result",
          "data": {
            "text/plain": [
              "array([[4., 4., 4.],\n",
              "       [4., 4., 4.]])"
            ]
          },
          "metadata": {},
          "execution_count": 63
        }
      ]
    },
    {
      "cell_type": "code",
      "source": [
        "np.add(x,y)"
      ],
      "metadata": {
        "colab": {
          "base_uri": "https://localhost:8080/"
        },
        "id": "guITL_BpAQ5F",
        "outputId": "f91a4626-1afa-46c8-a108-7a77a261ab61"
      },
      "execution_count": 64,
      "outputs": [
        {
          "output_type": "execute_result",
          "data": {
            "text/plain": [
              "array([[ 5,  5,  5],\n",
              "       [10, 10, 10]])"
            ]
          },
          "metadata": {},
          "execution_count": 64
        }
      ]
    },
    {
      "cell_type": "code",
      "source": [
        "np.subtract(x,y)"
      ],
      "metadata": {
        "colab": {
          "base_uri": "https://localhost:8080/"
        },
        "id": "NLbPDE14AY1d",
        "outputId": "3db85c0d-98b0-4945-c5ea-ddc6c5a8bc29"
      },
      "execution_count": 65,
      "outputs": [
        {
          "output_type": "execute_result",
          "data": {
            "text/plain": [
              "array([[3, 3, 3],\n",
              "       [6, 6, 6]])"
            ]
          },
          "metadata": {},
          "execution_count": 65
        }
      ]
    },
    {
      "cell_type": "code",
      "source": [
        "np.multiply(x,y)"
      ],
      "metadata": {
        "colab": {
          "base_uri": "https://localhost:8080/"
        },
        "id": "ZDSJSFE9AcCl",
        "outputId": "0ed33670-e6b1-494c-99f8-8ef1af3370f2"
      },
      "execution_count": 67,
      "outputs": [
        {
          "output_type": "execute_result",
          "data": {
            "text/plain": [
              "array([[ 4,  4,  4],\n",
              "       [16, 16, 16]])"
            ]
          },
          "metadata": {},
          "execution_count": 67
        }
      ]
    },
    {
      "cell_type": "code",
      "source": [
        "np.divide(x,y)"
      ],
      "metadata": {
        "colab": {
          "base_uri": "https://localhost:8080/"
        },
        "id": "r2wTqBcUAeWt",
        "outputId": "191a1a93-face-4b9b-e59c-b5f7e19caf77"
      },
      "execution_count": 68,
      "outputs": [
        {
          "output_type": "execute_result",
          "data": {
            "text/plain": [
              "array([[4., 4., 4.],\n",
              "       [4., 4., 4.]])"
            ]
          },
          "metadata": {},
          "execution_count": 68
        }
      ]
    },
    {
      "cell_type": "code",
      "source": [
        "x = np.random.rand(15)\n",
        "x"
      ],
      "metadata": {
        "colab": {
          "base_uri": "https://localhost:8080/"
        },
        "id": "PfU-s9rLAj3t",
        "outputId": "77dfe376-bf0f-4af7-bde8-2ef1e7c523c8"
      },
      "execution_count": 70,
      "outputs": [
        {
          "output_type": "execute_result",
          "data": {
            "text/plain": [
              "array([0.55195366, 0.49604027, 0.03443665, 0.50823824, 0.28162935,\n",
              "       0.70099455, 0.52072067, 0.84526827, 0.67021835, 0.95219305,\n",
              "       0.06406723, 0.59296443, 0.14394379, 0.47561774, 0.55311343])"
            ]
          },
          "metadata": {},
          "execution_count": 70
        }
      ]
    },
    {
      "cell_type": "code",
      "source": [
        "# 배열 평균\n",
        "\n",
        "x.mean()"
      ],
      "metadata": {
        "colab": {
          "base_uri": "https://localhost:8080/"
        },
        "id": "Q0ffFvV5Atxb",
        "outputId": "d35ba46f-6635-4409-cc99-8b6792f4c6e5"
      },
      "execution_count": 71,
      "outputs": [
        {
          "output_type": "execute_result",
          "data": {
            "text/plain": [
              "0.49275997810893524"
            ]
          },
          "metadata": {},
          "execution_count": 71
        }
      ]
    },
    {
      "cell_type": "code",
      "source": [
        "# 최대값의 인덱스를 출력 (argmin())\n",
        "\n",
        "x.argmax()"
      ],
      "metadata": {
        "colab": {
          "base_uri": "https://localhost:8080/"
        },
        "id": "MPVL8Px4A1VT",
        "outputId": "5351cae2-911c-4f7f-e164-9fb02cf3f157"
      },
      "execution_count": 72,
      "outputs": [
        {
          "output_type": "execute_result",
          "data": {
            "text/plain": [
              "9"
            ]
          },
          "metadata": {},
          "execution_count": 72
        }
      ]
    },
    {
      "cell_type": "code",
      "source": [
        "# 배열 표준편차\n",
        "\n",
        "x.std()"
      ],
      "metadata": {
        "colab": {
          "base_uri": "https://localhost:8080/"
        },
        "id": "5pIVWDvAA-aE",
        "outputId": "6d533557-6115-48c6-f0ea-108497f6f1a3"
      },
      "execution_count": 73,
      "outputs": [
        {
          "output_type": "execute_result",
          "data": {
            "text/plain": [
              "0.25674811673380454"
            ]
          },
          "metadata": {},
          "execution_count": 73
        }
      ]
    },
    {
      "cell_type": "code",
      "source": [
        "# 배열 총합\n",
        "\n",
        "x.sum()"
      ],
      "metadata": {
        "colab": {
          "base_uri": "https://localhost:8080/"
        },
        "id": "IJNSQaSWBRXv",
        "outputId": "91aa5fe2-4e11-4454-96be-4aa3025fe119"
      },
      "execution_count": 74,
      "outputs": [
        {
          "output_type": "execute_result",
          "data": {
            "text/plain": [
              "7.391399671634028"
            ]
          },
          "metadata": {},
          "execution_count": 74
        }
      ]
    },
    {
      "cell_type": "code",
      "source": [
        "# 이전 요소 더하기\n",
        "\n",
        "x.cumsum()"
      ],
      "metadata": {
        "colab": {
          "base_uri": "https://localhost:8080/"
        },
        "id": "EF5nnzPgBW0_",
        "outputId": "44de2e0e-06e7-474f-c1d5-eb2542d72872"
      },
      "execution_count": 75,
      "outputs": [
        {
          "output_type": "execute_result",
          "data": {
            "text/plain": [
              "array([0.55195366, 1.04799393, 1.08243057, 1.59066881, 1.87229816,\n",
              "       2.57329271, 3.09401339, 3.93928165, 4.6095    , 5.56169305,\n",
              "       5.62576029, 6.21872471, 6.3626685 , 6.83828624, 7.39139967])"
            ]
          },
          "metadata": {},
          "execution_count": 75
        }
      ]
    },
    {
      "cell_type": "code",
      "source": [],
      "metadata": {
        "id": "rgfEezmBBaiV"
      },
      "execution_count": null,
      "outputs": []
    }
  ]
}