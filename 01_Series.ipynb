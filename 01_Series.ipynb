{
  "cells": [
    {
      "cell_type": "markdown",
      "metadata": {
        "id": "view-in-github",
        "colab_type": "text"
      },
      "source": [
        "<a href=\"https://colab.research.google.com/github/Kimsumin1234/pandas/blob/main/01_Series.ipynb\" target=\"_parent\"><img src=\"https://colab.research.google.com/assets/colab-badge.svg\" alt=\"Open In Colab\"/></a>"
      ]
    },
    {
      "cell_type": "markdown",
      "id": "51dba0b9",
      "metadata": {
        "id": "51dba0b9"
      },
      "source": [
        "### [참고] <a href=\"https://pandas.pydata.org/Pandas_Cheat_Sheet.pdf\">Pandas Cheat Sheet</a>\n",
        "\n",
        "## 데이터 타입"
      ]
    },
    {
      "cell_type": "markdown",
      "id": "068e59f7",
      "metadata": {
        "id": "068e59f7"
      },
      "source": [
        "### 1.Series(https://pandas.pydata.org/docs/reference/api/pandas.Series.html)\n",
        "\n",
        "<img src=\"https://bites-data.s3.us-east-2.amazonaws.com/series_spreadsheet.png\" width=\"300\" height=\"200\">"
      ]
    },
    {
      "cell_type": "code",
      "execution_count": null,
      "id": "d57f56be",
      "metadata": {
        "id": "d57f56be"
      },
      "outputs": [],
      "source": [
        "import pandas as pd # 판다스 별칭 pd\n",
        "import numpy as np # 넘파이 별칭 np"
      ]
    },
    {
      "cell_type": "markdown",
      "id": "8b356858",
      "metadata": {
        "id": "8b356858"
      },
      "source": [
        "### 생성\n",
        "#### 1) 리스트"
      ]
    },
    {
      "cell_type": "code",
      "execution_count": null,
      "id": "4bdf91ab",
      "metadata": {
        "id": "4bdf91ab"
      },
      "outputs": [],
      "source": [
        "# 리스트에서 시리즈 생성 가능\n",
        "series = pd.Series([70,60,90]) # Series Values 만 넣음"
      ]
    },
    {
      "cell_type": "code",
      "execution_count": null,
      "id": "91ce7eb2",
      "metadata": {
        "id": "91ce7eb2",
        "colab": {
          "base_uri": "https://localhost:8080/"
        },
        "outputId": "2419191d-8dd6-4a0a-cc15-eba68976f205"
      },
      "outputs": [
        {
          "output_type": "execute_result",
          "data": {
            "text/plain": [
              "0    70\n",
              "1    60\n",
              "2    90\n",
              "dtype: int64"
            ]
          },
          "metadata": {},
          "execution_count": 3
        }
      ],
      "source": [
        "# index 를 지정하지 않는다면 자동으로 0 부터 시작\n",
        "# dtype : 데이터 타입\n",
        "# 64 : 64바이트\n",
        "\n",
        "series"
      ]
    },
    {
      "cell_type": "markdown",
      "id": "2476fcbd",
      "metadata": {
        "id": "2476fcbd"
      },
      "source": [
        "#### 2) 딕셔너리"
      ]
    },
    {
      "cell_type": "code",
      "execution_count": null,
      "id": "b2ac15a0",
      "metadata": {
        "id": "b2ac15a0"
      },
      "outputs": [],
      "source": [
        "series = pd.Series({\"a\":1,\"b\":2,\"c\":3})"
      ]
    },
    {
      "cell_type": "code",
      "execution_count": null,
      "id": "de35d1ee",
      "metadata": {
        "id": "de35d1ee",
        "colab": {
          "base_uri": "https://localhost:8080/"
        },
        "outputId": "74ba0900-2a45-4bec-986b-be89aff944d7"
      },
      "outputs": [
        {
          "output_type": "execute_result",
          "data": {
            "text/plain": [
              "a    1\n",
              "b    2\n",
              "c    3\n",
              "dtype: int64"
            ]
          },
          "metadata": {},
          "execution_count": 7
        }
      ],
      "source": [
        "# 딕셔너리의 경우에는 key 값을 인덱스로 사용\n",
        "\n",
        "series"
      ]
    },
    {
      "cell_type": "code",
      "execution_count": null,
      "id": "973dba0d",
      "metadata": {
        "id": "973dba0d"
      },
      "outputs": [],
      "source": [
        "# 리스트 일경우, index 지정하는 방법\n",
        "\n",
        "series = pd.Series([70,60,90],index=[\"국어\",\"영어\",\"수학\"])"
      ]
    },
    {
      "cell_type": "code",
      "execution_count": null,
      "id": "d5a05e92",
      "metadata": {
        "id": "d5a05e92",
        "colab": {
          "base_uri": "https://localhost:8080/"
        },
        "outputId": "fa61b311-1e2d-459a-aa4b-12f1933284eb"
      },
      "outputs": [
        {
          "output_type": "execute_result",
          "data": {
            "text/plain": [
              "국어    70\n",
              "영어    60\n",
              "수학    90\n",
              "dtype: int64"
            ]
          },
          "metadata": {},
          "execution_count": 9
        }
      ],
      "source": [
        "series"
      ]
    },
    {
      "cell_type": "markdown",
      "id": "8c2630c2",
      "metadata": {
        "id": "8c2630c2"
      },
      "source": [
        "#### 3) ndarray"
      ]
    },
    {
      "cell_type": "code",
      "execution_count": null,
      "id": "66738ee9",
      "metadata": {
        "id": "66738ee9",
        "colab": {
          "base_uri": "https://localhost:8080/"
        },
        "outputId": "99b2526c-2e5e-470b-deb2-b717ce3d641d"
      },
      "outputs": [
        {
          "output_type": "execute_result",
          "data": {
            "text/plain": [
              "a   -1.451601\n",
              "b    0.534157\n",
              "c    0.155370\n",
              "d   -0.421744\n",
              "dtype: float64"
            ]
          },
          "metadata": {},
          "execution_count": 10
        }
      ],
      "source": [
        "# 넘파이를 이용해서 시리즈 생성\n",
        "\n",
        "series = pd.Series(np.random.randn(4),index=list(\"abcd\"))\n",
        "series"
      ]
    },
    {
      "cell_type": "markdown",
      "id": "63a02c91",
      "metadata": {
        "id": "63a02c91"
      },
      "source": [
        "#### 4) DataFrame 이용"
      ]
    },
    {
      "cell_type": "code",
      "execution_count": null,
      "id": "339c0c56",
      "metadata": {
        "id": "339c0c56"
      },
      "outputs": [],
      "source": [
        "df = pd.DataFrame({\"a\":[1,2,3,4],\"b\":[5,6,7,8]})"
      ]
    },
    {
      "cell_type": "code",
      "execution_count": null,
      "id": "9680f018",
      "metadata": {
        "id": "9680f018",
        "colab": {
          "base_uri": "https://localhost:8080/",
          "height": 175
        },
        "outputId": "e35170ad-a80c-44d3-f3e5-b08d1ae8cc54"
      },
      "outputs": [
        {
          "output_type": "execute_result",
          "data": {
            "text/plain": [
              "   a  b\n",
              "0  1  5\n",
              "1  2  6\n",
              "2  3  7\n",
              "3  4  8"
            ],
            "text/html": [
              "\n",
              "  <div id=\"df-0b164b67-3fa9-4bf7-a285-d079f38c6a40\" class=\"colab-df-container\">\n",
              "    <div>\n",
              "<style scoped>\n",
              "    .dataframe tbody tr th:only-of-type {\n",
              "        vertical-align: middle;\n",
              "    }\n",
              "\n",
              "    .dataframe tbody tr th {\n",
              "        vertical-align: top;\n",
              "    }\n",
              "\n",
              "    .dataframe thead th {\n",
              "        text-align: right;\n",
              "    }\n",
              "</style>\n",
              "<table border=\"1\" class=\"dataframe\">\n",
              "  <thead>\n",
              "    <tr style=\"text-align: right;\">\n",
              "      <th></th>\n",
              "      <th>a</th>\n",
              "      <th>b</th>\n",
              "    </tr>\n",
              "  </thead>\n",
              "  <tbody>\n",
              "    <tr>\n",
              "      <th>0</th>\n",
              "      <td>1</td>\n",
              "      <td>5</td>\n",
              "    </tr>\n",
              "    <tr>\n",
              "      <th>1</th>\n",
              "      <td>2</td>\n",
              "      <td>6</td>\n",
              "    </tr>\n",
              "    <tr>\n",
              "      <th>2</th>\n",
              "      <td>3</td>\n",
              "      <td>7</td>\n",
              "    </tr>\n",
              "    <tr>\n",
              "      <th>3</th>\n",
              "      <td>4</td>\n",
              "      <td>8</td>\n",
              "    </tr>\n",
              "  </tbody>\n",
              "</table>\n",
              "</div>\n",
              "    <div class=\"colab-df-buttons\">\n",
              "\n",
              "  <div class=\"colab-df-container\">\n",
              "    <button class=\"colab-df-convert\" onclick=\"convertToInteractive('df-0b164b67-3fa9-4bf7-a285-d079f38c6a40')\"\n",
              "            title=\"Convert this dataframe to an interactive table.\"\n",
              "            style=\"display:none;\">\n",
              "\n",
              "  <svg xmlns=\"http://www.w3.org/2000/svg\" height=\"24px\" viewBox=\"0 -960 960 960\">\n",
              "    <path d=\"M120-120v-720h720v720H120Zm60-500h600v-160H180v160Zm220 220h160v-160H400v160Zm0 220h160v-160H400v160ZM180-400h160v-160H180v160Zm440 0h160v-160H620v160ZM180-180h160v-160H180v160Zm440 0h160v-160H620v160Z\"/>\n",
              "  </svg>\n",
              "    </button>\n",
              "\n",
              "  <style>\n",
              "    .colab-df-container {\n",
              "      display:flex;\n",
              "      gap: 12px;\n",
              "    }\n",
              "\n",
              "    .colab-df-convert {\n",
              "      background-color: #E8F0FE;\n",
              "      border: none;\n",
              "      border-radius: 50%;\n",
              "      cursor: pointer;\n",
              "      display: none;\n",
              "      fill: #1967D2;\n",
              "      height: 32px;\n",
              "      padding: 0 0 0 0;\n",
              "      width: 32px;\n",
              "    }\n",
              "\n",
              "    .colab-df-convert:hover {\n",
              "      background-color: #E2EBFA;\n",
              "      box-shadow: 0px 1px 2px rgba(60, 64, 67, 0.3), 0px 1px 3px 1px rgba(60, 64, 67, 0.15);\n",
              "      fill: #174EA6;\n",
              "    }\n",
              "\n",
              "    .colab-df-buttons div {\n",
              "      margin-bottom: 4px;\n",
              "    }\n",
              "\n",
              "    [theme=dark] .colab-df-convert {\n",
              "      background-color: #3B4455;\n",
              "      fill: #D2E3FC;\n",
              "    }\n",
              "\n",
              "    [theme=dark] .colab-df-convert:hover {\n",
              "      background-color: #434B5C;\n",
              "      box-shadow: 0px 1px 3px 1px rgba(0, 0, 0, 0.15);\n",
              "      filter: drop-shadow(0px 1px 2px rgba(0, 0, 0, 0.3));\n",
              "      fill: #FFFFFF;\n",
              "    }\n",
              "  </style>\n",
              "\n",
              "    <script>\n",
              "      const buttonEl =\n",
              "        document.querySelector('#df-0b164b67-3fa9-4bf7-a285-d079f38c6a40 button.colab-df-convert');\n",
              "      buttonEl.style.display =\n",
              "        google.colab.kernel.accessAllowed ? 'block' : 'none';\n",
              "\n",
              "      async function convertToInteractive(key) {\n",
              "        const element = document.querySelector('#df-0b164b67-3fa9-4bf7-a285-d079f38c6a40');\n",
              "        const dataTable =\n",
              "          await google.colab.kernel.invokeFunction('convertToInteractive',\n",
              "                                                    [key], {});\n",
              "        if (!dataTable) return;\n",
              "\n",
              "        const docLinkHtml = 'Like what you see? Visit the ' +\n",
              "          '<a target=\"_blank\" href=https://colab.research.google.com/notebooks/data_table.ipynb>data table notebook</a>'\n",
              "          + ' to learn more about interactive tables.';\n",
              "        element.innerHTML = '';\n",
              "        dataTable['output_type'] = 'display_data';\n",
              "        await google.colab.output.renderOutput(dataTable, element);\n",
              "        const docLink = document.createElement('div');\n",
              "        docLink.innerHTML = docLinkHtml;\n",
              "        element.appendChild(docLink);\n",
              "      }\n",
              "    </script>\n",
              "  </div>\n",
              "\n",
              "\n",
              "<div id=\"df-1880b19a-6960-48c6-9d75-700170018973\">\n",
              "  <button class=\"colab-df-quickchart\" onclick=\"quickchart('df-1880b19a-6960-48c6-9d75-700170018973')\"\n",
              "            title=\"Suggest charts\"\n",
              "            style=\"display:none;\">\n",
              "\n",
              "<svg xmlns=\"http://www.w3.org/2000/svg\" height=\"24px\"viewBox=\"0 0 24 24\"\n",
              "     width=\"24px\">\n",
              "    <g>\n",
              "        <path d=\"M19 3H5c-1.1 0-2 .9-2 2v14c0 1.1.9 2 2 2h14c1.1 0 2-.9 2-2V5c0-1.1-.9-2-2-2zM9 17H7v-7h2v7zm4 0h-2V7h2v10zm4 0h-2v-4h2v4z\"/>\n",
              "    </g>\n",
              "</svg>\n",
              "  </button>\n",
              "\n",
              "<style>\n",
              "  .colab-df-quickchart {\n",
              "      --bg-color: #E8F0FE;\n",
              "      --fill-color: #1967D2;\n",
              "      --hover-bg-color: #E2EBFA;\n",
              "      --hover-fill-color: #174EA6;\n",
              "      --disabled-fill-color: #AAA;\n",
              "      --disabled-bg-color: #DDD;\n",
              "  }\n",
              "\n",
              "  [theme=dark] .colab-df-quickchart {\n",
              "      --bg-color: #3B4455;\n",
              "      --fill-color: #D2E3FC;\n",
              "      --hover-bg-color: #434B5C;\n",
              "      --hover-fill-color: #FFFFFF;\n",
              "      --disabled-bg-color: #3B4455;\n",
              "      --disabled-fill-color: #666;\n",
              "  }\n",
              "\n",
              "  .colab-df-quickchart {\n",
              "    background-color: var(--bg-color);\n",
              "    border: none;\n",
              "    border-radius: 50%;\n",
              "    cursor: pointer;\n",
              "    display: none;\n",
              "    fill: var(--fill-color);\n",
              "    height: 32px;\n",
              "    padding: 0;\n",
              "    width: 32px;\n",
              "  }\n",
              "\n",
              "  .colab-df-quickchart:hover {\n",
              "    background-color: var(--hover-bg-color);\n",
              "    box-shadow: 0 1px 2px rgba(60, 64, 67, 0.3), 0 1px 3px 1px rgba(60, 64, 67, 0.15);\n",
              "    fill: var(--button-hover-fill-color);\n",
              "  }\n",
              "\n",
              "  .colab-df-quickchart-complete:disabled,\n",
              "  .colab-df-quickchart-complete:disabled:hover {\n",
              "    background-color: var(--disabled-bg-color);\n",
              "    fill: var(--disabled-fill-color);\n",
              "    box-shadow: none;\n",
              "  }\n",
              "\n",
              "  .colab-df-spinner {\n",
              "    border: 2px solid var(--fill-color);\n",
              "    border-color: transparent;\n",
              "    border-bottom-color: var(--fill-color);\n",
              "    animation:\n",
              "      spin 1s steps(1) infinite;\n",
              "  }\n",
              "\n",
              "  @keyframes spin {\n",
              "    0% {\n",
              "      border-color: transparent;\n",
              "      border-bottom-color: var(--fill-color);\n",
              "      border-left-color: var(--fill-color);\n",
              "    }\n",
              "    20% {\n",
              "      border-color: transparent;\n",
              "      border-left-color: var(--fill-color);\n",
              "      border-top-color: var(--fill-color);\n",
              "    }\n",
              "    30% {\n",
              "      border-color: transparent;\n",
              "      border-left-color: var(--fill-color);\n",
              "      border-top-color: var(--fill-color);\n",
              "      border-right-color: var(--fill-color);\n",
              "    }\n",
              "    40% {\n",
              "      border-color: transparent;\n",
              "      border-right-color: var(--fill-color);\n",
              "      border-top-color: var(--fill-color);\n",
              "    }\n",
              "    60% {\n",
              "      border-color: transparent;\n",
              "      border-right-color: var(--fill-color);\n",
              "    }\n",
              "    80% {\n",
              "      border-color: transparent;\n",
              "      border-right-color: var(--fill-color);\n",
              "      border-bottom-color: var(--fill-color);\n",
              "    }\n",
              "    90% {\n",
              "      border-color: transparent;\n",
              "      border-bottom-color: var(--fill-color);\n",
              "    }\n",
              "  }\n",
              "</style>\n",
              "\n",
              "  <script>\n",
              "    async function quickchart(key) {\n",
              "      const quickchartButtonEl =\n",
              "        document.querySelector('#' + key + ' button');\n",
              "      quickchartButtonEl.disabled = true;  // To prevent multiple clicks.\n",
              "      quickchartButtonEl.classList.add('colab-df-spinner');\n",
              "      try {\n",
              "        const charts = await google.colab.kernel.invokeFunction(\n",
              "            'suggestCharts', [key], {});\n",
              "      } catch (error) {\n",
              "        console.error('Error during call to suggestCharts:', error);\n",
              "      }\n",
              "      quickchartButtonEl.classList.remove('colab-df-spinner');\n",
              "      quickchartButtonEl.classList.add('colab-df-quickchart-complete');\n",
              "    }\n",
              "    (() => {\n",
              "      let quickchartButtonEl =\n",
              "        document.querySelector('#df-1880b19a-6960-48c6-9d75-700170018973 button');\n",
              "      quickchartButtonEl.style.display =\n",
              "        google.colab.kernel.accessAllowed ? 'block' : 'none';\n",
              "    })();\n",
              "  </script>\n",
              "</div>\n",
              "\n",
              "  <div id=\"id_8ae6b830-00f1-4503-9fc0-463d63e71529\">\n",
              "    <style>\n",
              "      .colab-df-generate {\n",
              "        background-color: #E8F0FE;\n",
              "        border: none;\n",
              "        border-radius: 50%;\n",
              "        cursor: pointer;\n",
              "        display: none;\n",
              "        fill: #1967D2;\n",
              "        height: 32px;\n",
              "        padding: 0 0 0 0;\n",
              "        width: 32px;\n",
              "      }\n",
              "\n",
              "      .colab-df-generate:hover {\n",
              "        background-color: #E2EBFA;\n",
              "        box-shadow: 0px 1px 2px rgba(60, 64, 67, 0.3), 0px 1px 3px 1px rgba(60, 64, 67, 0.15);\n",
              "        fill: #174EA6;\n",
              "      }\n",
              "\n",
              "      [theme=dark] .colab-df-generate {\n",
              "        background-color: #3B4455;\n",
              "        fill: #D2E3FC;\n",
              "      }\n",
              "\n",
              "      [theme=dark] .colab-df-generate:hover {\n",
              "        background-color: #434B5C;\n",
              "        box-shadow: 0px 1px 3px 1px rgba(0, 0, 0, 0.15);\n",
              "        filter: drop-shadow(0px 1px 2px rgba(0, 0, 0, 0.3));\n",
              "        fill: #FFFFFF;\n",
              "      }\n",
              "    </style>\n",
              "    <button class=\"colab-df-generate\" onclick=\"generateWithVariable('df')\"\n",
              "            title=\"Generate code using this dataframe.\"\n",
              "            style=\"display:none;\">\n",
              "\n",
              "  <svg xmlns=\"http://www.w3.org/2000/svg\" height=\"24px\"viewBox=\"0 0 24 24\"\n",
              "       width=\"24px\">\n",
              "    <path d=\"M7,19H8.4L18.45,9,17,7.55,7,17.6ZM5,21V16.75L18.45,3.32a2,2,0,0,1,2.83,0l1.4,1.43a1.91,1.91,0,0,1,.58,1.4,1.91,1.91,0,0,1-.58,1.4L9.25,21ZM18.45,9,17,7.55Zm-12,3A5.31,5.31,0,0,0,4.9,8.1,5.31,5.31,0,0,0,1,6.5,5.31,5.31,0,0,0,4.9,4.9,5.31,5.31,0,0,0,6.5,1,5.31,5.31,0,0,0,8.1,4.9,5.31,5.31,0,0,0,12,6.5,5.46,5.46,0,0,0,6.5,12Z\"/>\n",
              "  </svg>\n",
              "    </button>\n",
              "    <script>\n",
              "      (() => {\n",
              "      const buttonEl =\n",
              "        document.querySelector('#id_8ae6b830-00f1-4503-9fc0-463d63e71529 button.colab-df-generate');\n",
              "      buttonEl.style.display =\n",
              "        google.colab.kernel.accessAllowed ? 'block' : 'none';\n",
              "\n",
              "      buttonEl.onclick = () => {\n",
              "        google.colab.notebook.generateWithVariable('df');\n",
              "      }\n",
              "      })();\n",
              "    </script>\n",
              "  </div>\n",
              "\n",
              "    </div>\n",
              "  </div>\n"
            ],
            "application/vnd.google.colaboratory.intrinsic+json": {
              "type": "dataframe",
              "variable_name": "df",
              "summary": "{\n  \"name\": \"df\",\n  \"rows\": 4,\n  \"fields\": [\n    {\n      \"column\": \"a\",\n      \"properties\": {\n        \"dtype\": \"number\",\n        \"std\": 1,\n        \"min\": 1,\n        \"max\": 4,\n        \"num_unique_values\": 4,\n        \"samples\": [\n          2,\n          4,\n          1\n        ],\n        \"semantic_type\": \"\",\n        \"description\": \"\"\n      }\n    },\n    {\n      \"column\": \"b\",\n      \"properties\": {\n        \"dtype\": \"number\",\n        \"std\": 1,\n        \"min\": 5,\n        \"max\": 8,\n        \"num_unique_values\": 4,\n        \"samples\": [\n          6,\n          8,\n          5\n        ],\n        \"semantic_type\": \"\",\n        \"description\": \"\"\n      }\n    }\n  ]\n}"
            }
          },
          "metadata": {},
          "execution_count": 13
        }
      ],
      "source": [
        "# a 열 1개가 시리즈가 되는것\n",
        "# 데이타프레임은 시리즈를 여러개 모은형태\n",
        "\n",
        "df"
      ]
    },
    {
      "cell_type": "code",
      "execution_count": null,
      "id": "9515f877",
      "metadata": {
        "id": "9515f877",
        "colab": {
          "base_uri": "https://localhost:8080/"
        },
        "outputId": "e6c3764c-22ac-4ba2-f02f-9985e82b2804"
      },
      "outputs": [
        {
          "output_type": "execute_result",
          "data": {
            "text/plain": [
              "0    1\n",
              "1    2\n",
              "2    3\n",
              "3    4\n",
              "Name: a, dtype: int64"
            ]
          },
          "metadata": {},
          "execution_count": 14
        }
      ],
      "source": [
        "series = pd.Series(df[\"a\"])\n",
        "series"
      ]
    },
    {
      "cell_type": "markdown",
      "id": "0bea210c",
      "metadata": {
        "id": "0bea210c"
      },
      "source": [
        "### 조회"
      ]
    },
    {
      "cell_type": "code",
      "execution_count": null,
      "id": "15c56990",
      "metadata": {
        "id": "15c56990"
      },
      "outputs": [],
      "source": [
        "series = pd.Series([70,60,90],index=[\"국어\",\"영어\",\"수학\"])"
      ]
    },
    {
      "cell_type": "code",
      "execution_count": null,
      "id": "fd271b9e",
      "metadata": {
        "id": "fd271b9e",
        "colab": {
          "base_uri": "https://localhost:8080/"
        },
        "outputId": "1d1cf670-58fc-46b8-947c-b75e5d70a26d"
      },
      "outputs": [
        {
          "output_type": "execute_result",
          "data": {
            "text/plain": [
              "Index(['국어', '영어', '수학'], dtype='object')"
            ]
          },
          "metadata": {},
          "execution_count": 16
        }
      ],
      "source": [
        "# index 조회\n",
        "# '국어' 가 문자여서 dype은 object 로 나온다\n",
        "\n",
        "series.index"
      ]
    },
    {
      "cell_type": "code",
      "execution_count": null,
      "id": "997c987c",
      "metadata": {
        "id": "997c987c",
        "colab": {
          "base_uri": "https://localhost:8080/"
        },
        "outputId": "3b9ca8ae-bfb5-444d-bab7-fa088108f482"
      },
      "outputs": [
        {
          "output_type": "execute_result",
          "data": {
            "text/plain": [
              "array([70, 60, 90])"
            ]
          },
          "metadata": {},
          "execution_count": 18
        }
      ],
      "source": [
        "# value 조회\n",
        "\n",
        "series.values\n"
      ]
    },
    {
      "cell_type": "code",
      "execution_count": null,
      "id": "2491b80a",
      "metadata": {
        "id": "2491b80a",
        "colab": {
          "base_uri": "https://localhost:8080/",
          "height": 35
        },
        "outputId": "01d7df69-21b3-4083-f8b1-97f460d548ca"
      },
      "outputs": [
        {
          "output_type": "execute_result",
          "data": {
            "text/plain": [
              "'정수'"
            ],
            "application/vnd.google.colaboratory.intrinsic+json": {
              "type": "string"
            }
          },
          "metadata": {},
          "execution_count": 22
        }
      ],
      "source": [
        "# name 조회\n",
        "# name 이 없으면 아무것도 안나옴\n",
        "\n",
        "series.name"
      ]
    },
    {
      "cell_type": "code",
      "execution_count": null,
      "id": "18d31ab8",
      "metadata": {
        "id": "18d31ab8"
      },
      "outputs": [],
      "source": [
        "# name 수정(부여)\n",
        "\n",
        "series=series.rename(\"정수\")"
      ]
    },
    {
      "cell_type": "code",
      "execution_count": null,
      "id": "e5bd242f",
      "metadata": {
        "id": "e5bd242f",
        "colab": {
          "base_uri": "https://localhost:8080/"
        },
        "outputId": "1cd462b7-f075-4c8b-98d5-8a4cd2255581"
      },
      "outputs": [
        {
          "output_type": "execute_result",
          "data": {
            "text/plain": [
              "국어    70\n",
              "영어    60\n",
              "수학    90\n",
              "Name: 정수, dtype: int64"
            ]
          },
          "metadata": {},
          "execution_count": 23
        }
      ],
      "source": [
        "series"
      ]
    },
    {
      "cell_type": "markdown",
      "id": "364f6698",
      "metadata": {
        "id": "364f6698"
      },
      "source": [
        "- 인덱싱 가능 (인덱스 번호 혹은 라벨명)"
      ]
    },
    {
      "cell_type": "code",
      "execution_count": null,
      "id": "3a0fbcde",
      "metadata": {
        "id": "3a0fbcde",
        "colab": {
          "base_uri": "https://localhost:8080/"
        },
        "outputId": "e2e2e5df-6d75-4c53-afe5-c3de3ed6065e"
      },
      "outputs": [
        {
          "output_type": "execute_result",
          "data": {
            "text/plain": [
              "70"
            ]
          },
          "metadata": {},
          "execution_count": 24
        }
      ],
      "source": [
        "series[0]"
      ]
    },
    {
      "cell_type": "code",
      "execution_count": null,
      "id": "e661b4be",
      "metadata": {
        "id": "e661b4be",
        "colab": {
          "base_uri": "https://localhost:8080/"
        },
        "outputId": "c34d1e83-04e5-476f-b4cb-4fd7e23b1dc4"
      },
      "outputs": [
        {
          "output_type": "execute_result",
          "data": {
            "text/plain": [
              "70"
            ]
          },
          "metadata": {},
          "execution_count": 25
        }
      ],
      "source": [
        "# 인덱스를 안줫을때 기본으로 국어 자리에 인덱스가 0 이여서 같은결과가 나온다\n",
        "\n",
        "series[\"국어\"]"
      ]
    },
    {
      "cell_type": "code",
      "execution_count": null,
      "id": "68506dc1",
      "metadata": {
        "id": "68506dc1",
        "colab": {
          "base_uri": "https://localhost:8080/"
        },
        "outputId": "106db65b-a5d9-4380-8627-34f84fc31e34"
      },
      "outputs": [
        {
          "output_type": "execute_result",
          "data": {
            "text/plain": [
              "국어    70\n",
              "수학    90\n",
              "Name: 정수, dtype: int64"
            ]
          },
          "metadata": {},
          "execution_count": 28
        }
      ],
      "source": [
        "# 0, 2 조회\n",
        "\n",
        "# series[0:2] 0번 1번 조회\n",
        "\n",
        "# series[0,2] # KeyError\n",
        "\n",
        "series[[0,2]]"
      ]
    },
    {
      "cell_type": "markdown",
      "id": "9a08835a",
      "metadata": {
        "id": "9a08835a"
      },
      "source": [
        "- 전체 구조 파악"
      ]
    },
    {
      "cell_type": "code",
      "execution_count": null,
      "id": "5feb3da7",
      "metadata": {
        "id": "5feb3da7",
        "colab": {
          "base_uri": "https://localhost:8080/"
        },
        "outputId": "06f97b4f-77d5-415a-d9f3-f34283692821"
      },
      "outputs": [
        {
          "output_type": "execute_result",
          "data": {
            "text/plain": [
              "(3,)"
            ]
          },
          "metadata": {},
          "execution_count": 29
        }
      ],
      "source": [
        "# 전체구조파악은 자주 쓰인다 기억해두면 좋음\n",
        "\n",
        "series.shape"
      ]
    },
    {
      "cell_type": "code",
      "execution_count": null,
      "id": "e1263cf0",
      "metadata": {
        "id": "e1263cf0",
        "colab": {
          "base_uri": "https://localhost:8080/"
        },
        "outputId": "333dfe9d-6b25-4d37-bb38-51c22373cd26"
      },
      "outputs": [
        {
          "output_type": "execute_result",
          "data": {
            "text/plain": [
              "국어    70\n",
              "영어    60\n",
              "수학    90\n",
              "Name: 정수, dtype: int64"
            ]
          },
          "metadata": {},
          "execution_count": 30
        }
      ],
      "source": [
        "# head() : 기본은 앞 쪽에서 데이터 5행 가져옴\n",
        "\n",
        "series.head()"
      ]
    },
    {
      "cell_type": "code",
      "execution_count": null,
      "id": "816e5d40",
      "metadata": {
        "id": "816e5d40",
        "colab": {
          "base_uri": "https://localhost:8080/"
        },
        "outputId": "1a7b1458-ad8b-49e6-cb61-c70d0b51e059"
      },
      "outputs": [
        {
          "output_type": "execute_result",
          "data": {
            "text/plain": [
              "국어    70\n",
              "영어    60\n",
              "Name: 정수, dtype: int64"
            ]
          },
          "metadata": {},
          "execution_count": 31
        }
      ],
      "source": [
        "series.head(2)"
      ]
    },
    {
      "cell_type": "code",
      "execution_count": null,
      "id": "fb3d876f",
      "metadata": {
        "id": "fb3d876f",
        "colab": {
          "base_uri": "https://localhost:8080/"
        },
        "outputId": "325df0b8-eef1-47e1-cbe1-75169ea0f7b5"
      },
      "outputs": [
        {
          "output_type": "execute_result",
          "data": {
            "text/plain": [
              "국어    70\n",
              "영어    60\n",
              "수학    90\n",
              "Name: 정수, dtype: int64"
            ]
          },
          "metadata": {},
          "execution_count": 32
        }
      ],
      "source": [
        "# tail() : 기본은 끝 에서 데이터 5행 가져옴\n",
        "\n",
        "series.tail()"
      ]
    },
    {
      "cell_type": "code",
      "execution_count": null,
      "id": "285bc5b3",
      "metadata": {
        "id": "285bc5b3",
        "colab": {
          "base_uri": "https://localhost:8080/"
        },
        "outputId": "d1227b48-39b3-4842-bd37-4403214f7018"
      },
      "outputs": [
        {
          "output_type": "execute_result",
          "data": {
            "text/plain": [
              "영어    60\n",
              "수학    90\n",
              "Name: 정수, dtype: int64"
            ]
          },
          "metadata": {},
          "execution_count": 33
        }
      ],
      "source": [
        "series.tail(2)"
      ]
    },
    {
      "cell_type": "markdown",
      "id": "083d4550",
      "metadata": {
        "id": "083d4550"
      },
      "source": [
        "### 수정\n",
        "><b>index 수정</b>"
      ]
    },
    {
      "cell_type": "code",
      "execution_count": null,
      "id": "edb8effc",
      "metadata": {
        "id": "edb8effc",
        "colab": {
          "base_uri": "https://localhost:8080/"
        },
        "outputId": "3d2ed078-6abe-4dd5-b837-05ab9782a9d0"
      },
      "outputs": [
        {
          "output_type": "execute_result",
          "data": {
            "text/plain": [
              "미술    70\n",
              "음악    60\n",
              "체육    90\n",
              "Name: 정수, dtype: int64"
            ]
          },
          "metadata": {},
          "execution_count": 35
        }
      ],
      "source": [
        "series.index = ([\"미술\",\"음악\",\"체육\"])\n",
        "series"
      ]
    },
    {
      "cell_type": "markdown",
      "id": "5385f3ad",
      "metadata": {
        "id": "5385f3ad"
      },
      "source": [
        "><b>특정 값 수정</b>"
      ]
    },
    {
      "cell_type": "code",
      "execution_count": null,
      "id": "a6938238",
      "metadata": {
        "id": "a6938238",
        "colab": {
          "base_uri": "https://localhost:8080/"
        },
        "outputId": "50dfa537-f400-4a2a-9ada-2783e1edbfea"
      },
      "outputs": [
        {
          "output_type": "execute_result",
          "data": {
            "text/plain": [
              "75"
            ]
          },
          "metadata": {},
          "execution_count": 37
        }
      ],
      "source": [
        "series[\"미술\"] = 75\n",
        "series[\"미술\"]"
      ]
    },
    {
      "cell_type": "markdown",
      "id": "79fbe5da",
      "metadata": {
        "id": "79fbe5da"
      },
      "source": [
        "><b>데이터 타입 변경</b>"
      ]
    },
    {
      "cell_type": "code",
      "execution_count": null,
      "id": "80176db3",
      "metadata": {
        "id": "80176db3",
        "colab": {
          "base_uri": "https://localhost:8080/"
        },
        "outputId": "e9037b05-717d-4660-c777-68033295a602"
      },
      "outputs": [
        {
          "output_type": "execute_result",
          "data": {
            "text/plain": [
              "0    1\n",
              "1    1\n",
              "2    1\n",
              "dtype: int64"
            ]
          },
          "metadata": {},
          "execution_count": 39
        }
      ],
      "source": [
        "series1 = pd.Series([1,1,1])\n",
        "series1"
      ]
    },
    {
      "cell_type": "code",
      "execution_count": null,
      "id": "53692b19",
      "metadata": {
        "id": "53692b19",
        "colab": {
          "base_uri": "https://localhost:8080/"
        },
        "outputId": "4b471e23-ac23-4b5e-9de6-41f8ca0f5984"
      },
      "outputs": [
        {
          "output_type": "execute_result",
          "data": {
            "text/plain": [
              "0    1.0\n",
              "1    1.0\n",
              "2    1.0\n",
              "dtype: float64"
            ]
          },
          "metadata": {},
          "execution_count": 40
        }
      ],
      "source": [
        "# astype(변경타입) : 원본은 바뀌지 않음\n",
        "\n",
        "series1.astype(\"float\")"
      ]
    },
    {
      "cell_type": "code",
      "execution_count": null,
      "id": "0dd29ecc",
      "metadata": {
        "id": "0dd29ecc",
        "colab": {
          "base_uri": "https://localhost:8080/"
        },
        "outputId": "f8f79c55-7144-4ded-d1a3-84380ec5d4f8"
      },
      "outputs": [
        {
          "output_type": "execute_result",
          "data": {
            "text/plain": [
              "0    1\n",
              "1    1\n",
              "2    1\n",
              "dtype: int64"
            ]
          },
          "metadata": {},
          "execution_count": 41
        }
      ],
      "source": [
        "series1\n"
      ]
    },
    {
      "cell_type": "code",
      "execution_count": null,
      "id": "2646d838",
      "metadata": {
        "id": "2646d838",
        "colab": {
          "base_uri": "https://localhost:8080/"
        },
        "outputId": "8dfd7f7b-cfef-4161-c708-615f34b2c339"
      },
      "outputs": [
        {
          "output_type": "execute_result",
          "data": {
            "text/plain": [
              "0    1.0\n",
              "1    1.0\n",
              "2    1.0\n",
              "dtype: float64"
            ]
          },
          "metadata": {},
          "execution_count": 42
        }
      ],
      "source": [
        "# 다시 담아야 변경\n",
        "# 원본 변경을 원할때는 다시 감기\n",
        "\n",
        "series1 = series1.astype(\"float\")\n",
        "series1\n"
      ]
    },
    {
      "cell_type": "markdown",
      "id": "8dd1ad69",
      "metadata": {
        "id": "8dd1ad69"
      },
      "source": [
        "**astype 사용 시 주의점 : 변경할 수 없는 데이터가 들어있는 경우**"
      ]
    },
    {
      "cell_type": "code",
      "execution_count": null,
      "id": "f0ccfa4f",
      "metadata": {
        "id": "f0ccfa4f",
        "colab": {
          "base_uri": "https://localhost:8080/"
        },
        "outputId": "16046703-1ce0-44dd-c096-4b8447433a6f"
      },
      "outputs": [
        {
          "output_type": "execute_result",
          "data": {
            "text/plain": [
              "0    1.1\n",
              "1    2.2\n",
              "2    3.3\n",
              "dtype: float64"
            ]
          },
          "metadata": {},
          "execution_count": 45
        }
      ],
      "source": [
        "series1 = pd.Series([\"1.1\",\"2.2\",\"3.3\"]) # object 타입\n",
        "series1.astype(\"float\")"
      ]
    },
    {
      "cell_type": "code",
      "execution_count": null,
      "id": "30631f17",
      "metadata": {
        "scrolled": true,
        "id": "30631f17",
        "colab": {
          "base_uri": "https://localhost:8080/",
          "height": 304
        },
        "collapsed": true,
        "outputId": "e873f313-ccc6-4d48-c629-e632851d091a"
      },
      "outputs": [
        {
          "output_type": "error",
          "ename": "ValueError",
          "evalue": "could not convert string to float: 'test'",
          "traceback": [
            "\u001b[0;31m---------------------------------------------------------------------------\u001b[0m",
            "\u001b[0;31mValueError\u001b[0m                                Traceback (most recent call last)",
            "\u001b[0;32m<ipython-input-46-ed0ce637fc96>\u001b[0m in \u001b[0;36m<cell line: 2>\u001b[0;34m()\u001b[0m\n\u001b[1;32m      1\u001b[0m \u001b[0mseries1\u001b[0m \u001b[0;34m=\u001b[0m \u001b[0mpd\u001b[0m\u001b[0;34m.\u001b[0m\u001b[0mSeries\u001b[0m\u001b[0;34m(\u001b[0m\u001b[0;34m[\u001b[0m\u001b[0;34m\"test\"\u001b[0m\u001b[0;34m,\u001b[0m\u001b[0;34m\"2.2\"\u001b[0m\u001b[0;34m,\u001b[0m\u001b[0;34m\"3.3\"\u001b[0m\u001b[0;34m]\u001b[0m\u001b[0;34m)\u001b[0m \u001b[0;31m# object 타입\u001b[0m\u001b[0;34m\u001b[0m\u001b[0;34m\u001b[0m\u001b[0m\n\u001b[0;32m----> 2\u001b[0;31m \u001b[0mseries1\u001b[0m\u001b[0;34m.\u001b[0m\u001b[0mastype\u001b[0m\u001b[0;34m(\u001b[0m\u001b[0;34m\"float\"\u001b[0m\u001b[0;34m)\u001b[0m\u001b[0;34m\u001b[0m\u001b[0;34m\u001b[0m\u001b[0m\n\u001b[0m",
            "\u001b[0;32m/usr/local/lib/python3.10/dist-packages/pandas/core/generic.py\u001b[0m in \u001b[0;36mastype\u001b[0;34m(self, dtype, copy, errors)\u001b[0m\n\u001b[1;32m   6322\u001b[0m         \u001b[0;32melse\u001b[0m\u001b[0;34m:\u001b[0m\u001b[0;34m\u001b[0m\u001b[0;34m\u001b[0m\u001b[0m\n\u001b[1;32m   6323\u001b[0m             \u001b[0;31m# else, only a single dtype is given\u001b[0m\u001b[0;34m\u001b[0m\u001b[0;34m\u001b[0m\u001b[0m\n\u001b[0;32m-> 6324\u001b[0;31m             \u001b[0mnew_data\u001b[0m \u001b[0;34m=\u001b[0m \u001b[0mself\u001b[0m\u001b[0;34m.\u001b[0m\u001b[0m_mgr\u001b[0m\u001b[0;34m.\u001b[0m\u001b[0mastype\u001b[0m\u001b[0;34m(\u001b[0m\u001b[0mdtype\u001b[0m\u001b[0;34m=\u001b[0m\u001b[0mdtype\u001b[0m\u001b[0;34m,\u001b[0m \u001b[0mcopy\u001b[0m\u001b[0;34m=\u001b[0m\u001b[0mcopy\u001b[0m\u001b[0;34m,\u001b[0m \u001b[0merrors\u001b[0m\u001b[0;34m=\u001b[0m\u001b[0merrors\u001b[0m\u001b[0;34m)\u001b[0m\u001b[0;34m\u001b[0m\u001b[0;34m\u001b[0m\u001b[0m\n\u001b[0m\u001b[1;32m   6325\u001b[0m             \u001b[0;32mreturn\u001b[0m \u001b[0mself\u001b[0m\u001b[0;34m.\u001b[0m\u001b[0m_constructor\u001b[0m\u001b[0;34m(\u001b[0m\u001b[0mnew_data\u001b[0m\u001b[0;34m)\u001b[0m\u001b[0;34m.\u001b[0m\u001b[0m__finalize__\u001b[0m\u001b[0;34m(\u001b[0m\u001b[0mself\u001b[0m\u001b[0;34m,\u001b[0m \u001b[0mmethod\u001b[0m\u001b[0;34m=\u001b[0m\u001b[0;34m\"astype\"\u001b[0m\u001b[0;34m)\u001b[0m\u001b[0;34m\u001b[0m\u001b[0;34m\u001b[0m\u001b[0m\n\u001b[1;32m   6326\u001b[0m \u001b[0;34m\u001b[0m\u001b[0m\n",
            "\u001b[0;32m/usr/local/lib/python3.10/dist-packages/pandas/core/internals/managers.py\u001b[0m in \u001b[0;36mastype\u001b[0;34m(self, dtype, copy, errors)\u001b[0m\n\u001b[1;32m    449\u001b[0m             \u001b[0mcopy\u001b[0m \u001b[0;34m=\u001b[0m \u001b[0;32mFalse\u001b[0m\u001b[0;34m\u001b[0m\u001b[0;34m\u001b[0m\u001b[0m\n\u001b[1;32m    450\u001b[0m \u001b[0;34m\u001b[0m\u001b[0m\n\u001b[0;32m--> 451\u001b[0;31m         return self.apply(\n\u001b[0m\u001b[1;32m    452\u001b[0m             \u001b[0;34m\"astype\"\u001b[0m\u001b[0;34m,\u001b[0m\u001b[0;34m\u001b[0m\u001b[0;34m\u001b[0m\u001b[0m\n\u001b[1;32m    453\u001b[0m             \u001b[0mdtype\u001b[0m\u001b[0;34m=\u001b[0m\u001b[0mdtype\u001b[0m\u001b[0;34m,\u001b[0m\u001b[0;34m\u001b[0m\u001b[0;34m\u001b[0m\u001b[0m\n",
            "\u001b[0;32m/usr/local/lib/python3.10/dist-packages/pandas/core/internals/managers.py\u001b[0m in \u001b[0;36mapply\u001b[0;34m(self, f, align_keys, **kwargs)\u001b[0m\n\u001b[1;32m    350\u001b[0m                 \u001b[0mapplied\u001b[0m \u001b[0;34m=\u001b[0m \u001b[0mb\u001b[0m\u001b[0;34m.\u001b[0m\u001b[0mapply\u001b[0m\u001b[0;34m(\u001b[0m\u001b[0mf\u001b[0m\u001b[0;34m,\u001b[0m \u001b[0;34m**\u001b[0m\u001b[0mkwargs\u001b[0m\u001b[0;34m)\u001b[0m\u001b[0;34m\u001b[0m\u001b[0;34m\u001b[0m\u001b[0m\n\u001b[1;32m    351\u001b[0m             \u001b[0;32melse\u001b[0m\u001b[0;34m:\u001b[0m\u001b[0;34m\u001b[0m\u001b[0;34m\u001b[0m\u001b[0m\n\u001b[0;32m--> 352\u001b[0;31m                 \u001b[0mapplied\u001b[0m \u001b[0;34m=\u001b[0m \u001b[0mgetattr\u001b[0m\u001b[0;34m(\u001b[0m\u001b[0mb\u001b[0m\u001b[0;34m,\u001b[0m \u001b[0mf\u001b[0m\u001b[0;34m)\u001b[0m\u001b[0;34m(\u001b[0m\u001b[0;34m**\u001b[0m\u001b[0mkwargs\u001b[0m\u001b[0;34m)\u001b[0m\u001b[0;34m\u001b[0m\u001b[0;34m\u001b[0m\u001b[0m\n\u001b[0m\u001b[1;32m    353\u001b[0m             \u001b[0mresult_blocks\u001b[0m \u001b[0;34m=\u001b[0m \u001b[0mextend_blocks\u001b[0m\u001b[0;34m(\u001b[0m\u001b[0mapplied\u001b[0m\u001b[0;34m,\u001b[0m \u001b[0mresult_blocks\u001b[0m\u001b[0;34m)\u001b[0m\u001b[0;34m\u001b[0m\u001b[0;34m\u001b[0m\u001b[0m\n\u001b[1;32m    354\u001b[0m \u001b[0;34m\u001b[0m\u001b[0m\n",
            "\u001b[0;32m/usr/local/lib/python3.10/dist-packages/pandas/core/internals/blocks.py\u001b[0m in \u001b[0;36mastype\u001b[0;34m(self, dtype, copy, errors, using_cow)\u001b[0m\n\u001b[1;32m    509\u001b[0m         \u001b[0mvalues\u001b[0m \u001b[0;34m=\u001b[0m \u001b[0mself\u001b[0m\u001b[0;34m.\u001b[0m\u001b[0mvalues\u001b[0m\u001b[0;34m\u001b[0m\u001b[0;34m\u001b[0m\u001b[0m\n\u001b[1;32m    510\u001b[0m \u001b[0;34m\u001b[0m\u001b[0m\n\u001b[0;32m--> 511\u001b[0;31m         \u001b[0mnew_values\u001b[0m \u001b[0;34m=\u001b[0m \u001b[0mastype_array_safe\u001b[0m\u001b[0;34m(\u001b[0m\u001b[0mvalues\u001b[0m\u001b[0;34m,\u001b[0m \u001b[0mdtype\u001b[0m\u001b[0;34m,\u001b[0m \u001b[0mcopy\u001b[0m\u001b[0;34m=\u001b[0m\u001b[0mcopy\u001b[0m\u001b[0;34m,\u001b[0m \u001b[0merrors\u001b[0m\u001b[0;34m=\u001b[0m\u001b[0merrors\u001b[0m\u001b[0;34m)\u001b[0m\u001b[0;34m\u001b[0m\u001b[0;34m\u001b[0m\u001b[0m\n\u001b[0m\u001b[1;32m    512\u001b[0m \u001b[0;34m\u001b[0m\u001b[0m\n\u001b[1;32m    513\u001b[0m         \u001b[0mnew_values\u001b[0m \u001b[0;34m=\u001b[0m \u001b[0mmaybe_coerce_values\u001b[0m\u001b[0;34m(\u001b[0m\u001b[0mnew_values\u001b[0m\u001b[0;34m)\u001b[0m\u001b[0;34m\u001b[0m\u001b[0;34m\u001b[0m\u001b[0m\n",
            "\u001b[0;32m/usr/local/lib/python3.10/dist-packages/pandas/core/dtypes/astype.py\u001b[0m in \u001b[0;36mastype_array_safe\u001b[0;34m(values, dtype, copy, errors)\u001b[0m\n\u001b[1;32m    240\u001b[0m \u001b[0;34m\u001b[0m\u001b[0m\n\u001b[1;32m    241\u001b[0m     \u001b[0;32mtry\u001b[0m\u001b[0;34m:\u001b[0m\u001b[0;34m\u001b[0m\u001b[0;34m\u001b[0m\u001b[0m\n\u001b[0;32m--> 242\u001b[0;31m         \u001b[0mnew_values\u001b[0m \u001b[0;34m=\u001b[0m \u001b[0mastype_array\u001b[0m\u001b[0;34m(\u001b[0m\u001b[0mvalues\u001b[0m\u001b[0;34m,\u001b[0m \u001b[0mdtype\u001b[0m\u001b[0;34m,\u001b[0m \u001b[0mcopy\u001b[0m\u001b[0;34m=\u001b[0m\u001b[0mcopy\u001b[0m\u001b[0;34m)\u001b[0m\u001b[0;34m\u001b[0m\u001b[0;34m\u001b[0m\u001b[0m\n\u001b[0m\u001b[1;32m    243\u001b[0m     \u001b[0;32mexcept\u001b[0m \u001b[0;34m(\u001b[0m\u001b[0mValueError\u001b[0m\u001b[0;34m,\u001b[0m \u001b[0mTypeError\u001b[0m\u001b[0;34m)\u001b[0m\u001b[0;34m:\u001b[0m\u001b[0;34m\u001b[0m\u001b[0;34m\u001b[0m\u001b[0m\n\u001b[1;32m    244\u001b[0m         \u001b[0;31m# e.g. _astype_nansafe can fail on object-dtype of strings\u001b[0m\u001b[0;34m\u001b[0m\u001b[0;34m\u001b[0m\u001b[0m\n",
            "\u001b[0;32m/usr/local/lib/python3.10/dist-packages/pandas/core/dtypes/astype.py\u001b[0m in \u001b[0;36mastype_array\u001b[0;34m(values, dtype, copy)\u001b[0m\n\u001b[1;32m    185\u001b[0m \u001b[0;34m\u001b[0m\u001b[0m\n\u001b[1;32m    186\u001b[0m     \u001b[0;32melse\u001b[0m\u001b[0;34m:\u001b[0m\u001b[0;34m\u001b[0m\u001b[0;34m\u001b[0m\u001b[0m\n\u001b[0;32m--> 187\u001b[0;31m         \u001b[0mvalues\u001b[0m \u001b[0;34m=\u001b[0m \u001b[0m_astype_nansafe\u001b[0m\u001b[0;34m(\u001b[0m\u001b[0mvalues\u001b[0m\u001b[0;34m,\u001b[0m \u001b[0mdtype\u001b[0m\u001b[0;34m,\u001b[0m \u001b[0mcopy\u001b[0m\u001b[0;34m=\u001b[0m\u001b[0mcopy\u001b[0m\u001b[0;34m)\u001b[0m\u001b[0;34m\u001b[0m\u001b[0;34m\u001b[0m\u001b[0m\n\u001b[0m\u001b[1;32m    188\u001b[0m \u001b[0;34m\u001b[0m\u001b[0m\n\u001b[1;32m    189\u001b[0m     \u001b[0;31m# in pandas we don't store numpy str dtypes, so convert to object\u001b[0m\u001b[0;34m\u001b[0m\u001b[0;34m\u001b[0m\u001b[0m\n",
            "\u001b[0;32m/usr/local/lib/python3.10/dist-packages/pandas/core/dtypes/astype.py\u001b[0m in \u001b[0;36m_astype_nansafe\u001b[0;34m(arr, dtype, copy, skipna)\u001b[0m\n\u001b[1;32m    136\u001b[0m     \u001b[0;32mif\u001b[0m \u001b[0mcopy\u001b[0m \u001b[0;32mor\u001b[0m \u001b[0mis_object_dtype\u001b[0m\u001b[0;34m(\u001b[0m\u001b[0marr\u001b[0m\u001b[0;34m.\u001b[0m\u001b[0mdtype\u001b[0m\u001b[0;34m)\u001b[0m \u001b[0;32mor\u001b[0m \u001b[0mis_object_dtype\u001b[0m\u001b[0;34m(\u001b[0m\u001b[0mdtype\u001b[0m\u001b[0;34m)\u001b[0m\u001b[0;34m:\u001b[0m\u001b[0;34m\u001b[0m\u001b[0;34m\u001b[0m\u001b[0m\n\u001b[1;32m    137\u001b[0m         \u001b[0;31m# Explicit copy, or required since NumPy can't view from / to object.\u001b[0m\u001b[0;34m\u001b[0m\u001b[0;34m\u001b[0m\u001b[0m\n\u001b[0;32m--> 138\u001b[0;31m         \u001b[0;32mreturn\u001b[0m \u001b[0marr\u001b[0m\u001b[0;34m.\u001b[0m\u001b[0mastype\u001b[0m\u001b[0;34m(\u001b[0m\u001b[0mdtype\u001b[0m\u001b[0;34m,\u001b[0m \u001b[0mcopy\u001b[0m\u001b[0;34m=\u001b[0m\u001b[0;32mTrue\u001b[0m\u001b[0;34m)\u001b[0m\u001b[0;34m\u001b[0m\u001b[0;34m\u001b[0m\u001b[0m\n\u001b[0m\u001b[1;32m    139\u001b[0m \u001b[0;34m\u001b[0m\u001b[0m\n\u001b[1;32m    140\u001b[0m     \u001b[0;32mreturn\u001b[0m \u001b[0marr\u001b[0m\u001b[0;34m.\u001b[0m\u001b[0mastype\u001b[0m\u001b[0;34m(\u001b[0m\u001b[0mdtype\u001b[0m\u001b[0;34m,\u001b[0m \u001b[0mcopy\u001b[0m\u001b[0;34m=\u001b[0m\u001b[0mcopy\u001b[0m\u001b[0;34m)\u001b[0m\u001b[0;34m\u001b[0m\u001b[0;34m\u001b[0m\u001b[0m\n",
            "\u001b[0;31mValueError\u001b[0m: could not convert string to float: 'test'"
          ]
        }
      ],
      "source": [
        "# 못 바꾸는 데이터가 있을경우 에러가 난다\n",
        "\n",
        "series1 = pd.Series([\"test\",\"2.2\",\"3.3\"]) # object 타입\n",
        "series1.astype(\"float\")"
      ]
    },
    {
      "cell_type": "markdown",
      "id": "3b2841c7",
      "metadata": {
        "id": "3b2841c7"
      },
      "source": [
        "### 삭제\n",
        "><b>특정 행 삭제</b>"
      ]
    },
    {
      "cell_type": "code",
      "execution_count": null,
      "id": "e13adab3",
      "metadata": {
        "id": "e13adab3",
        "colab": {
          "base_uri": "https://localhost:8080/"
        },
        "outputId": "f7776af1-24cd-4884-8d2b-af53ce48990b"
      },
      "outputs": [
        {
          "output_type": "execute_result",
          "data": {
            "text/plain": [
              "미술    75\n",
              "음악    60\n",
              "체육    90\n",
              "Name: 정수, dtype: int64"
            ]
          },
          "metadata": {},
          "execution_count": 47
        }
      ],
      "source": [
        "series"
      ]
    },
    {
      "cell_type": "code",
      "execution_count": null,
      "id": "cfe793bc",
      "metadata": {
        "id": "cfe793bc"
      },
      "outputs": [],
      "source": [
        "del series[\"체육\"]"
      ]
    },
    {
      "cell_type": "code",
      "execution_count": null,
      "id": "ae64df33",
      "metadata": {
        "id": "ae64df33",
        "colab": {
          "base_uri": "https://localhost:8080/"
        },
        "outputId": "927734c5-a34e-433d-b711-f97e40d492c5"
      },
      "outputs": [
        {
          "output_type": "execute_result",
          "data": {
            "text/plain": [
              "미술    75\n",
              "음악    60\n",
              "Name: 정수, dtype: int64"
            ]
          },
          "metadata": {},
          "execution_count": 49
        }
      ],
      "source": [
        "series"
      ]
    }
  ],
  "metadata": {
    "kernelspec": {
      "display_name": "Python 3 (ipykernel)",
      "language": "python",
      "name": "python3"
    },
    "language_info": {
      "codemirror_mode": {
        "name": "ipython",
        "version": 3
      },
      "file_extension": ".py",
      "mimetype": "text/x-python",
      "name": "python",
      "nbconvert_exporter": "python",
      "pygments_lexer": "ipython3",
      "version": "3.9.12"
    },
    "colab": {
      "provenance": [],
      "include_colab_link": true
    }
  },
  "nbformat": 4,
  "nbformat_minor": 5
}